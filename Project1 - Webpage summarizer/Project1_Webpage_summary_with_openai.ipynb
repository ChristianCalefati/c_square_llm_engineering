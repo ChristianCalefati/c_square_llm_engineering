{
 "cells": [
  {
   "cell_type": "code",
   "execution_count": 1,
   "id": "6cb8c63d-08e7-4164-b397-42c4b907f19a",
   "metadata": {
    "editable": true,
    "slideshow": {
     "slide_type": ""
    },
    "tags": []
   },
   "outputs": [],
   "source": [
    "#imports\n",
    "import os\n",
    "import requests\n",
    "from dotenv import load_dotenv\n",
    "from bs4 import BeautifulSoup\n",
    "from IPython.display import Markdown, display\n",
    "from openai import OpenAI\n"
   ]
  },
  {
   "cell_type": "code",
   "execution_count": 2,
   "id": "3147667a-4d04-4cbc-97fc-55528a18280a",
   "metadata": {},
   "outputs": [
    {
     "name": "stdout",
     "output_type": "stream",
     "text": [
      "Your API Key looks good\n"
     ]
    }
   ],
   "source": [
    "load_dotenv()\n",
    "api_key = os.getenv('OPENAI_API_KEY');\n",
    "\n",
    "if not api_key:\n",
    "    print(\"No API Key loaded\")\n",
    "elif not api_key.startswith(\"sk-proj-\"):\n",
    "    print(\"Your API Key does not start with sk-proj. Maybe it was copied wrongly. Please check it\")\n",
    "elif api_key.strip() != api_key:\n",
    "    print(\"Your API Key does contain some spaces. Please remove them\")\n",
    "else: \n",
    "    print(\"Your API Key looks good\")  "
   ]
  },
  {
   "cell_type": "code",
   "execution_count": 3,
   "id": "69d5d57a-b925-4194-9adf-5b83c9e8391d",
   "metadata": {},
   "outputs": [],
   "source": [
    "openai = OpenAI(api_key=api_key);"
   ]
  },
  {
   "cell_type": "code",
   "execution_count": 4,
   "id": "7d0d6784-c15a-4da7-baf7-6ca161de7062",
   "metadata": {},
   "outputs": [
    {
     "data": {
      "text/plain": [
       "\"That's great to hear! Congratulations on successfully using the API! If you have any questions or need assistance with anything related to it, feel free to ask.\""
      ]
     },
     "execution_count": 4,
     "metadata": {},
     "output_type": "execute_result"
    }
   ],
   "source": [
    "#Verify that the connection with OpenAI is working correctly\n",
    "message = \"Hello ChatGPT, I am calling you using your API. I made it!!!\"\n",
    "response = openai.chat.completions.create(model=\"gpt-4o-mini\", messages=[{\"role\":\"user\", \"content\": message}])\n",
    "response.choices[0].message.content"
   ]
  },
  {
   "cell_type": "code",
   "execution_count": 5,
   "id": "c4d4cf23-e7ce-462b-8892-b9d44ab32769",
   "metadata": {
    "editable": true,
    "slideshow": {
     "slide_type": ""
    },
    "tags": []
   },
   "outputs": [],
   "source": [
    "class Website:\n",
    "    \"\"\"\n",
    "    Utility class to scape webpage html content given the page url\n",
    "    \"\"\"\n",
    "    url: str\n",
    "    title: str\n",
    "    text: str\n",
    "\n",
    "    def __init__(self, url):\n",
    "        self.url = url\n",
    "        response = requests.get(url)\n",
    "        soup = BeautifulSoup(response.content, 'html.parser')\n",
    "        self.title = soup.title.string if soup.title else \"No title found\"\n",
    "        for irrelevant in soup.body([\"script\", \"style\", \"img\", \"input\"]):\n",
    "            irrelevant.decompose()\n",
    "        self.text = soup.body.get_text(separator=\"\\n\", strip=True)    \n",
    "        \n",
    "        "
   ]
  },
  {
   "cell_type": "code",
   "execution_count": 6,
   "id": "f5c8a258-3f63-4725-89fd-4655e8fe0e39",
   "metadata": {},
   "outputs": [
    {
     "name": "stdout",
     "output_type": "stream",
     "text": [
      "Santa Clause - Wikipedia\n"
     ]
    }
   ],
   "source": [
    "santa_clause_webside = Website(\"https://it.wikipedia.org/wiki/Santa_Clause\")\n",
    "print(santa_clause_webside.title)"
   ]
  },
  {
   "cell_type": "code",
   "execution_count": 7,
   "id": "dfc2e8af-3648-4857-8ed3-400b309c3a17",
   "metadata": {
    "editable": true,
    "slideshow": {
     "slide_type": ""
    },
    "tags": []
   },
   "outputs": [],
   "source": [
    "#System Prompt and User Prompt\n",
    "system_prompt=\"You are an assistant that analyzes the contents of a website \\\n",
    "and provides a short summary, ignoring text that might be navigation related. \\\n",
    "Respond in markdown.\""
   ]
  },
  {
   "cell_type": "code",
   "execution_count": 8,
   "id": "ff4212d2-36ab-4c8f-b692-d67ab3a9b55a",
   "metadata": {},
   "outputs": [],
   "source": [
    "def user_prompt_for(website: Website):\n",
    "    user_prompt = f\"You are looking at a website titled {website.title}\"\n",
    "    user_prompt += \"\\nThe contents of this website is as follows;\\n\\\n",
    "    please provide a short summary of this website in markdown. \\\n",
    "    If it includes news or announcements, then summarize these too.\\n\\n\"\n",
    "    user_prompt += website.text\n",
    "    return user_prompt"
   ]
  },
  {
   "cell_type": "code",
   "execution_count": 9,
   "id": "a34c6b76-47a8-4367-a1d7-a4d3f09bbf7a",
   "metadata": {},
   "outputs": [],
   "source": [
    "def messages_for(website: Website):\n",
    "    return [\n",
    "    {\"role\": \"system\", \"content\": system_prompt},\n",
    "    {\"role\": \"user\", \"content\": user_prompt_for(website)}\n",
    "    ]"
   ]
  },
  {
   "cell_type": "code",
   "execution_count": 10,
   "id": "88c350d6-5db6-4249-973c-8592315aa674",
   "metadata": {},
   "outputs": [],
   "source": [
    "#summarize fuction will get everything together\n",
    "def summarize(url: str) -> str :\n",
    "    website = Website(url);\n",
    "    response = openai.chat.completions.create(\n",
    "        model=\"gpt-4o-mini\",\n",
    "        messages = messages_for(website)\n",
    "    )\n",
    "    return response.choices[0].message.content \n"
   ]
  },
  {
   "cell_type": "code",
   "execution_count": 11,
   "id": "ba5607d6-c273-4f55-b179-339fd2f25b88",
   "metadata": {},
   "outputs": [
    {
     "data": {
      "text/markdown": [
       "# Summary of \"Come funziona Sito Semplice di TIM\" by Salvatore Aranzulla\n",
       "\n",
       "This website offers a detailed guide on \"Sito Semplice,\" a service provided by TIM Business for creating professional websites, blogs, e-commerce stores, and booking sites without needing professional assistance.\n",
       "\n",
       "## Key Features:\n",
       "- **User-Friendly Interface**: Sito Semplice utilizes a drag-and-drop editor that allows users to easily design their websites using an intuitive interface.\n",
       "- **Templates and Components**: Users have access to over 100 components and more than 1,000 customizable templates created by professional designers.\n",
       "- **Trial Period**: The service is free for the first three months, with no credit card information required initially.\n",
       "- **All-Inclusive Pricing**: The offering includes various features under a single package, reducing the complexity of plans.\n",
       "  \n",
       "## Plans:\n",
       "- **Sito Semplice Free**: \n",
       "  - Free for the first 3 months\n",
       "  - Domain of 3rd level, 200 MB of online storage, and some basic applications.\n",
       "  \n",
       "- **Sito Semplice Professional**:\n",
       "  - €10 + VAT per month\n",
       "  - Custom second-level domain, unlimited storage, advanced site statistics, e-commerce features, and more.\n",
       "\n",
       "## Additional Services:\n",
       "Users can create:\n",
       "- **Blogs** with complete management of articles, categories, and tags.\n",
       "- **E-commerce** sites with straightforward product and order management.\n",
       "- **Booking features** for hospitality services.\n",
       "\n",
       "## Support and Resources:\n",
       "For further assistance, users can access tutorials on the official Sito Semplice website and contact support through chat or phone for more personalized help.\n",
       "\n",
       "## About the Author:\n",
       "Salvatore Aranzulla is a well-known Italian tech blogger and contributor to various tech-related publications, recognized for simplifying complex IT topics.\n",
       "\n",
       "For more information and to get started, users are encouraged to visit the official Sito Semplice page."
      ],
      "text/plain": [
       "<IPython.core.display.Markdown object>"
      ]
     },
     "metadata": {},
     "output_type": "display_data"
    }
   ],
   "source": [
    "display(Markdown(summarize(\"https://www.aranzulla.it/come-funziona-sito-semplice-di-tim-1272269.html\")))"
   ]
  }
 ],
 "metadata": {
  "kernelspec": {
   "display_name": "Python 3 (ipykernel)",
   "language": "python",
   "name": "python3"
  },
  "language_info": {
   "codemirror_mode": {
    "name": "ipython",
    "version": 3
   },
   "file_extension": ".py",
   "mimetype": "text/x-python",
   "name": "python",
   "nbconvert_exporter": "python",
   "pygments_lexer": "ipython3",
   "version": "3.11.13"
  }
 },
 "nbformat": 4,
 "nbformat_minor": 5
}

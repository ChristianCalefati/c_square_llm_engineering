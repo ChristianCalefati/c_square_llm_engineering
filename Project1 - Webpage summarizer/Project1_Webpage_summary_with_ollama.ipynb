{
 "cells": [
  {
   "cell_type": "code",
   "execution_count": null,
   "id": "61e6d78f-f513-4199-8529-9b1b8a307f3d",
   "metadata": {
    "editable": true,
    "slideshow": {
     "slide_type": ""
    },
    "tags": []
   },
   "outputs": [],
   "source": [
    "import requests\n",
    "import ollama\n",
    "from bs4 import BeautifulSoup\n",
    "from IPython.display import Markdown, display"
   ]
  },
  {
   "cell_type": "code",
   "execution_count": null,
   "id": "2fd60d2c-0854-421e-866c-f986ef4bc546",
   "metadata": {},
   "outputs": [],
   "source": [
    "MODEL=\"llama3.2\""
   ]
  },
  {
   "cell_type": "code",
   "execution_count": null,
   "id": "d78723b7-676f-44f0-8677-c4018dcdb78d",
   "metadata": {
    "editable": true,
    "slideshow": {
     "slide_type": ""
    },
    "tags": []
   },
   "outputs": [],
   "source": [
    "#Defining Sytem prompt\n",
    "system_prompt = \"You are an assistant that analyzes the contents of a website \\\n",
    "and provides a short summary, ignoring text that might be navigation related. \\\n",
    "Respond in markdown.\""
   ]
  },
  {
   "cell_type": "code",
   "execution_count": null,
   "id": "c8e469b3-bc64-4c64-a7ea-89e7e60430b5",
   "metadata": {
    "editable": true,
    "slideshow": {
     "slide_type": ""
    },
    "tags": []
   },
   "outputs": [],
   "source": [
    "#Defining class that represents a website\n",
    "class Website:\n",
    "    url: str\n",
    "    title: str\n",
    "    text: str\n",
    "\n",
    "    def __init__(self, url: str):\n",
    "        self.url = url\n",
    "        response = requests.get(url)\n",
    "        soup = BeautifulSoup(response.content, 'html.parser')\n",
    "        self.title = soup.title.string if soup.title else \"No Title Found\"\n",
    "        for irrelevant in soup.body([\"script\", \"input\", \"img\", \"style\"]):\n",
    "            irrelevant.decompose()\n",
    "        self.text = soup.body.get_text(separator=\"\\n\", strip=True) "
   ]
  },
  {
   "cell_type": "code",
   "execution_count": null,
   "id": "e209c80b-26a3-432e-b11f-638ef87d2dbc",
   "metadata": {
    "editable": true,
    "slideshow": {
     "slide_type": ""
    },
    "tags": []
   },
   "outputs": [],
   "source": [
    "#Defining the function that creates user input\n",
    "def generate_user_prompt_for_website(website: Website) -> str:\n",
    "    user_prompt = f\"You are looking at a website titled {website.title}\"\n",
    "    user_prompt += \"\\nThe contents of this website is as follows;\\n\\\n",
    "    please provide a short summary of this website in markdown. \\\n",
    "    If it includes news or announcements, then summarize these too.\\n\\n\"\n",
    "    user_prompt += website.text\n",
    "    return user_prompt"
   ]
  },
  {
   "cell_type": "code",
   "execution_count": null,
   "id": "1e431f3d-0ed1-41d4-89c2-70f871636dd7",
   "metadata": {},
   "outputs": [],
   "source": [
    "#function that generates the inout message for the LLM\n",
    "def generate_messages(website: Website):\n",
    "    return [\n",
    "        {\n",
    "            \"role\": \"system\",\n",
    "            \"content\": system_prompt\n",
    "        },\n",
    "        {  \"role\": \"user\",\n",
    "            \"content\": generate_user_prompt_for_website(website)\n",
    "        }\n",
    "    ]"
   ]
  },
  {
   "cell_type": "code",
   "execution_count": null,
   "id": "5db096a7-8955-45fb-824e-bac967f9582f",
   "metadata": {},
   "outputs": [],
   "source": [
    "def summarize_webpage(url: str):\n",
    "    webpage = Website(url)\n",
    "    response = ollama.chat(model=MODEL, messages= generate_messages(webpage))\n",
    "    return response.message.content"
   ]
  },
  {
   "cell_type": "code",
   "execution_count": null,
   "id": "db259c10-98f3-4858-8273-b845d0e16f1c",
   "metadata": {},
   "outputs": [],
   "source": [
    "display(Markdown(summarize_webpage(\"https://www.aranzulla.it/come-funziona-sito-semplice-di-tim-1272269.html\")))"
   ]
  }
 ],
 "metadata": {
  "kernelspec": {
   "display_name": "Python 3 (ipykernel)",
   "language": "python",
   "name": "python3"
  },
  "language_info": {
   "codemirror_mode": {
    "name": "ipython",
    "version": 3
   },
   "file_extension": ".py",
   "mimetype": "text/x-python",
   "name": "python",
   "nbconvert_exporter": "python",
   "pygments_lexer": "ipython3",
   "version": "3.11.13"
  }
 },
 "nbformat": 4,
 "nbformat_minor": 5
}
